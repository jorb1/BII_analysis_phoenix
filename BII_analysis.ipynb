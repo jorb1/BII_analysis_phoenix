{
 "cells": [
  {
   "cell_type": "markdown",
   "id": "7f71297f-3975-45bf-b68a-3ee66a896d60",
   "metadata": {},
   "source": [
    "# Biodiversity Intactness Index change in Phoenix, AZ\n",
    "### Author: Bailey Jørgensen\n",
    "**Repository:** https://github.com/jorb1/eds220-BII\n",
    "\n",
    "## About:\n",
    "\n",
    "**Purpose:**\n",
    "In 2021, Maricopa County —home to the Phoenix metropolitan area— was identified as the U.S. county with the most significant increase in developed land since 2001. This rapid urban sprawl has profound implications for biodiversity and the health of surrounding natural ecosystems.\n",
    "\n",
    "In this notebook, I will investigate the impacts of urban expansion by analyzing a dataset that captures values for the Biodiversity Intactness Index (BII). Apecifically, I will examine changes in BII in the Phoenix county subdivision area between 2017 and 2020, shedding light on how urban growth affects biodiversity over time.\n",
    "\n",
    "**Highlights:**\n",
    "1. \n",
    "\n",
    "2. \n",
    "\n",
    "3. \n",
    "\n",
    "4. \n",
    "\n",
    "**About the data:**\n",
    "1. The first data set is is the Biodiversity Intactness Index (BII) Time Series. Access the io-biodiversity collection from the Microsoft Planetary Computer STAC catalog. I will be using the 2017 and 2020 rasters covering the Phoenix subdivision. \n",
    "\n",
    "2. The second data set is the Phoenix Subdivision Shapefile Download the Phoenix subdivision polygon from the Census County Subdivision shapefiles for Arizona. All legal boundaries and names are as of January 1, 2024. The 2024 TIGER/Line Shapefiles were released on September 25, 2024. https://www.census.gov/cgi-bin/geo/shapefiles/index.php?year=2022&layergroup=County+Subdivisions\n",
    "\n",
    "Both of these datasets were accessed for this analysis on 12/2/2024."
   ]
  },
  {
   "cell_type": "code",
   "execution_count": 5,
   "id": "ece60ffc-9eb2-49b6-908c-36379a5e4986",
   "metadata": {
    "tags": []
   },
   "outputs": [],
   "source": [
    "# Load Libraries\n",
    "import pandas as pd\n",
    "import geopandas as gpd\n",
    "import planetary_computer\n",
    "import pystac_client\n",
    "import rich.table\n",
    "#import stackstac\n",
    "from geogif import gif"
   ]
  },
  {
   "cell_type": "code",
   "execution_count": 6,
   "id": "3da0024f-8950-44c7-a4d7-aef6c79cbd6b",
   "metadata": {
    "tags": []
   },
   "outputs": [
    {
     "name": "stderr",
     "output_type": "stream",
     "text": [
      "ERROR 1: PROJ: proj_create_from_database: Open of /opt/anaconda3/envs/eds220-env/share/proj failed\n"
     ]
    }
   ],
   "source": [
    "# Read in shapefile data for Arizona\n",
    "arizona = gpd.read_file('data/tl_2022_04_cousub.shp')"
   ]
  },
  {
   "cell_type": "code",
   "execution_count": 7,
   "id": "fbe7578d-6e4f-4fa1-9611-3c9e024f1c39",
   "metadata": {
    "tags": []
   },
   "outputs": [],
   "source": [
    "catalog = pystac_client.Client.open(\n",
    "    \"https://planetarycomputer.microsoft.com/api/stac/v1\",\n",
    "    modifier=planetary_computer.sign_inplace,\n",
    ")"
   ]
  },
  {
   "cell_type": "code",
   "execution_count": 8,
   "id": "0088e464-d703-4854-9fcc-b26591de8b89",
   "metadata": {
    "tags": []
   },
   "outputs": [
    {
     "name": "stdout",
     "output_type": "stream",
     "text": [
      "<Item id=bii_2020_34.74464974521749_-115.38597824385106_cog>\n",
      "<Item id=bii_2019_34.74464974521749_-115.38597824385106_cog>\n",
      "<Item id=bii_2018_34.74464974521749_-115.38597824385106_cog>\n",
      "<Item id=bii_2017_34.74464974521749_-115.38597824385106_cog>\n"
     ]
    }
   ],
   "source": [
    "bbox_of_interest = [-112.826843, 32.974108, -111.184387, 33.863574]\n",
    "search = catalog.search(collections=[\"io-biodiversity\"], bbox=bbox_of_interest)\n",
    "\n",
    "items = list(search.items())\n",
    "for item in items:\n",
    "    print(item)"
   ]
  },
  {
   "cell_type": "markdown",
   "id": "3460270a-508d-47ad-997e-a0c7432c39e9",
   "metadata": {},
   "source": [
    "Our search returned four STAC Items. We can tell from their IDs that that they contain data for the same area but for different times, specifically the years 2017 through 2020. Let's display the available assets and properties for the 2017 Item."
   ]
  },
  {
   "cell_type": "code",
   "execution_count": 9,
   "id": "727e3085-0358-4632-8d94-ec47b9decdf5",
   "metadata": {
    "tags": []
   },
   "outputs": [
    {
     "data": {
      "text/html": [
       "<pre style=\"white-space:pre;overflow-x:auto;line-height:normal;font-family:Menlo,'DejaVu Sans Mono',consolas,'Courier New',monospace\">┏━━━━━━━━━━━━━━━━━━┳━━━━━━━━━━━━━━━━━━━━━━━━━━━━━━━━━┓\n",
       "┃<span style=\"font-weight: bold\"> Asset Key        </span>┃<span style=\"font-weight: bold\"> Asset Title                     </span>┃\n",
       "┡━━━━━━━━━━━━━━━━━━╇━━━━━━━━━━━━━━━━━━━━━━━━━━━━━━━━━┩\n",
       "│ data             │ Biodiversity Intactness         │\n",
       "│ tilejson         │ TileJSON with default rendering │\n",
       "│ rendered_preview │ Rendered preview                │\n",
       "└──────────────────┴─────────────────────────────────┘\n",
       "</pre>\n"
      ],
      "text/plain": [
       "┏━━━━━━━━━━━━━━━━━━┳━━━━━━━━━━━━━━━━━━━━━━━━━━━━━━━━━┓\n",
       "┃\u001b[1m \u001b[0m\u001b[1mAsset Key       \u001b[0m\u001b[1m \u001b[0m┃\u001b[1m \u001b[0m\u001b[1mAsset Title                    \u001b[0m\u001b[1m \u001b[0m┃\n",
       "┡━━━━━━━━━━━━━━━━━━╇━━━━━━━━━━━━━━━━━━━━━━━━━━━━━━━━━┩\n",
       "│ data             │ Biodiversity Intactness         │\n",
       "│ tilejson         │ TileJSON with default rendering │\n",
       "│ rendered_preview │ Rendered preview                │\n",
       "└──────────────────┴─────────────────────────────────┘\n"
      ]
     },
     "execution_count": 9,
     "metadata": {},
     "output_type": "execute_result"
    }
   ],
   "source": [
    "asset_table = rich.table.Table(\"Asset Key\", \"Asset Title\")\n",
    "for key, value in items[-1].assets.items():\n",
    "    asset_table.add_row(key, value.title)\n",
    "asset_table"
   ]
  },
  {
   "cell_type": "code",
   "execution_count": 10,
   "id": "6e272eee-ade5-4489-b9a5-7b1f6dea2d2a",
   "metadata": {
    "tags": []
   },
   "outputs": [
    {
     "data": {
      "text/html": [
       "<pre style=\"white-space:pre;overflow-x:auto;line-height:normal;font-family:Menlo,'DejaVu Sans Mono',consolas,'Courier New',monospace\">┏━━━━━━━━━━━━━━━━┳━━━━━━━━━━━━━━━━━━━━━━━━━━━━━━━━━━━━━━━━━━━━━━━━━━━━━━━━━━━━━━━━━━━━━━━━━━━━━━━━━━━━━━━━━━━━━━━━┓\n",
       "┃<span style=\"font-weight: bold\"> Property Name  </span>┃<span style=\"font-weight: bold\"> Property Value                                                                                 </span>┃\n",
       "┡━━━━━━━━━━━━━━━━╇━━━━━━━━━━━━━━━━━━━━━━━━━━━━━━━━━━━━━━━━━━━━━━━━━━━━━━━━━━━━━━━━━━━━━━━━━━━━━━━━━━━━━━━━━━━━━━━━┩\n",
       "│ datetime       │ None                                                                                           │\n",
       "│ end_datetime   │ 2017-12-31T23:59:59Z                                                                           │\n",
       "│ proj:epsg      │ 4326                                                                                           │\n",
       "│ proj:shape     │ [7992, 7992]                                                                                   │\n",
       "│ proj:transform │ [0.0008983152841195215, 0.0, -115.38597824385106, 0.0, -0.0008983152841195215,                 │\n",
       "│                │ 34.74464974521749, 0.0, 0.0, 1.0]                                                              │\n",
       "│ start_datetime │ 2017-01-01T00:00:00Z                                                                           │\n",
       "└────────────────┴────────────────────────────────────────────────────────────────────────────────────────────────┘\n",
       "</pre>\n"
      ],
      "text/plain": [
       "┏━━━━━━━━━━━━━━━━┳━━━━━━━━━━━━━━━━━━━━━━━━━━━━━━━━━━━━━━━━━━━━━━━━━━━━━━━━━━━━━━━━━━━━━━━━━━━━━━━━━━━━━━━━━━━━━━━━┓\n",
       "┃\u001b[1m \u001b[0m\u001b[1mProperty Name \u001b[0m\u001b[1m \u001b[0m┃\u001b[1m \u001b[0m\u001b[1mProperty Value                                                                                \u001b[0m\u001b[1m \u001b[0m┃\n",
       "┡━━━━━━━━━━━━━━━━╇━━━━━━━━━━━━━━━━━━━━━━━━━━━━━━━━━━━━━━━━━━━━━━━━━━━━━━━━━━━━━━━━━━━━━━━━━━━━━━━━━━━━━━━━━━━━━━━━┩\n",
       "│ datetime       │ None                                                                                           │\n",
       "│ end_datetime   │ 2017-12-31T23:59:59Z                                                                           │\n",
       "│ proj:epsg      │ 4326                                                                                           │\n",
       "│ proj:shape     │ [7992, 7992]                                                                                   │\n",
       "│ proj:transform │ [0.0008983152841195215, 0.0, -115.38597824385106, 0.0, -0.0008983152841195215,                 │\n",
       "│                │ 34.74464974521749, 0.0, 0.0, 1.0]                                                              │\n",
       "│ start_datetime │ 2017-01-01T00:00:00Z                                                                           │\n",
       "└────────────────┴────────────────────────────────────────────────────────────────────────────────────────────────┘\n"
      ]
     },
     "execution_count": 10,
     "metadata": {},
     "output_type": "execute_result"
    }
   ],
   "source": [
    "property_table = rich.table.Table(\"Property Name\", \"Property Value\")\n",
    "for key, value in sorted(items[-1].properties.items()):\n",
    "    property_table.add_row(key, str(value))\n",
    "property_table"
   ]
  },
  {
   "cell_type": "markdown",
   "id": "544dd86b-31e8-4d44-8f6e-84635567bc8d",
   "metadata": {},
   "source": [
    "Load the Data and Plot\n",
    "\n",
    "We are interested in the \"data\" asset. We'll use the stackstac library to read the data assets for the four Items into a single xarray.DataArray."
   ]
  },
  {
   "cell_type": "code",
   "execution_count": 11,
   "id": "1abe4c69-5b14-4b58-b9f0-2c87a21c15bd",
   "metadata": {
    "tags": []
   },
   "outputs": [
    {
     "ename": "NameError",
     "evalue": "name 'stackstac' is not defined",
     "output_type": "error",
     "traceback": [
      "\u001b[0;31m---------------------------------------------------------------------------\u001b[0m",
      "\u001b[0;31mNameError\u001b[0m                                 Traceback (most recent call last)",
      "Cell \u001b[0;32mIn[11], line 2\u001b[0m\n\u001b[1;32m      1\u001b[0m stack \u001b[38;5;241m=\u001b[39m (\n\u001b[0;32m----> 2\u001b[0m     \u001b[43mstackstac\u001b[49m\u001b[38;5;241m.\u001b[39mstack(items, bounds_latlon\u001b[38;5;241m=\u001b[39mbbox_of_interest, assets\u001b[38;5;241m=\u001b[39m[\u001b[38;5;124m\"\u001b[39m\u001b[38;5;124mdata\u001b[39m\u001b[38;5;124m\"\u001b[39m])\n\u001b[1;32m      3\u001b[0m     \u001b[38;5;241m.\u001b[39massign_coords(\n\u001b[1;32m      4\u001b[0m         time\u001b[38;5;241m=\u001b[39mpd\u001b[38;5;241m.\u001b[39mto_datetime([item\u001b[38;5;241m.\u001b[39mproperties[\u001b[38;5;124m\"\u001b[39m\u001b[38;5;124mstart_datetime\u001b[39m\u001b[38;5;124m\"\u001b[39m] \u001b[38;5;28;01mfor\u001b[39;00m item \u001b[38;5;129;01min\u001b[39;00m items])\n\u001b[1;32m      5\u001b[0m         \u001b[38;5;241m.\u001b[39mtz_convert(\u001b[38;5;28;01mNone\u001b[39;00m)\n\u001b[1;32m      6\u001b[0m         \u001b[38;5;241m.\u001b[39mto_numpy()\n\u001b[1;32m      7\u001b[0m     )\n\u001b[1;32m      8\u001b[0m     \u001b[38;5;241m.\u001b[39msortby(\u001b[38;5;124m\"\u001b[39m\u001b[38;5;124mtime\u001b[39m\u001b[38;5;124m\"\u001b[39m)\n\u001b[1;32m      9\u001b[0m )\n\u001b[1;32m     10\u001b[0m stack\u001b[38;5;241m.\u001b[39mname \u001b[38;5;241m=\u001b[39m \u001b[38;5;124m\"\u001b[39m\u001b[38;5;124mBiodiversity Intactness\u001b[39m\u001b[38;5;124m\"\u001b[39m\n\u001b[1;32m     11\u001b[0m stack\n",
      "\u001b[0;31mNameError\u001b[0m: name 'stackstac' is not defined"
     ]
    }
   ],
   "source": [
    "stack = (\n",
    "    stackstac.stack(items, bounds_latlon=bbox_of_interest, assets=[\"data\"])\n",
    "    .assign_coords(\n",
    "        time=pd.to_datetime([item.properties[\"start_datetime\"] for item in items])\n",
    "        .tz_convert(None)\n",
    "        .to_numpy()\n",
    "    )\n",
    "    .sortby(\"time\")\n",
    ")\n",
    "stack.name = \"Biodiversity Intactness\"\n",
    "stack"
   ]
  },
  {
   "cell_type": "code",
   "execution_count": null,
   "id": "7614d0d9-d333-4a46-b97f-e767e308e490",
   "metadata": {},
   "outputs": [],
   "source": []
  }
 ],
 "metadata": {
  "kernelspec": {
   "display_name": "Anaconda 3 (EDS220)",
   "language": "python",
   "name": "eds220-env"
  },
  "language_info": {
   "codemirror_mode": {
    "name": "ipython",
    "version": 3
   },
   "file_extension": ".py",
   "mimetype": "text/x-python",
   "name": "python",
   "nbconvert_exporter": "python",
   "pygments_lexer": "ipython3",
   "version": "3.11.4"
  }
 },
 "nbformat": 4,
 "nbformat_minor": 5
}
